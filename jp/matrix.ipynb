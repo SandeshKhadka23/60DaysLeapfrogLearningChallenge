{
 "cells": [
  {
   "cell_type": "code",
   "execution_count": 4,
   "id": "275dff5a-60e7-4acf-8c08-96dd39095d8d",
   "metadata": {},
   "outputs": [
    {
     "name": "stdout",
     "output_type": "stream",
     "text": [
      "the matrix A:\n",
      " [[1 2]\n",
      " [3 4]]\n",
      "the inverse of A:\n",
      " [[-2.   1. ]\n",
      " [ 1.5 -0.5]]\n",
      "result:\n",
      " [[14 20]\n",
      " [32 46]]\n",
      "the determinant of A is: -2.0000000000000004\n"
     ]
    }
   ],
   "source": [
    "#practice\n",
    "import numpy as np\n",
    "A=np.array([[1,2],[3,4]])\n",
    "inv_A=np.linalg.inv(A)\n",
    "print(\"the matrix A:\\n\",A)\n",
    "print(\"the inverse of A:\\n\",inv_A)\n",
    "\n",
    "B=np.array([[4,5],[6,7]])\n",
    "trans_B=B.T\n",
    "mul=A@trans_B\n",
    "print(\"result:\\n\",mul)\n",
    "\n",
    "det_A=np.linalg.det(A)\n",
    "print(\"the determinant of A is:\",det_A)\n",
    "\n",
    "# c=np.array([1,2,3])\n",
    "# inv_c=np.linalg.inv(c)\n",
    "# print(\"inverse of c:\",inv_c)\n"
   ]
  },
  {
   "cell_type": "code",
   "execution_count": null,
   "id": "5eaf3580-74c0-4f84-8086-b9ef834575bf",
   "metadata": {},
   "outputs": [],
   "source": []
  },
  {
   "cell_type": "code",
   "execution_count": null,
   "id": "2419f39c-99e1-4303-83e7-4b18e55e12a0",
   "metadata": {},
   "outputs": [],
   "source": []
  },
  {
   "cell_type": "code",
   "execution_count": null,
   "id": "e5cdcc0c-75b5-433a-91fc-a393371d2ff0",
   "metadata": {},
   "outputs": [],
   "source": []
  },
  {
   "cell_type": "code",
   "execution_count": null,
   "id": "a5028617-6028-49ae-8c5f-d5c1ebe6ffa7",
   "metadata": {},
   "outputs": [],
   "source": []
  }
 ],
 "metadata": {
  "kernelspec": {
   "display_name": "Python 3 (ipykernel)",
   "language": "python",
   "name": "python3"
  },
  "language_info": {
   "codemirror_mode": {
    "name": "ipython",
    "version": 3
   },
   "file_extension": ".py",
   "mimetype": "text/x-python",
   "name": "python",
   "nbconvert_exporter": "python",
   "pygments_lexer": "ipython3",
   "version": "3.12.3"
  }
 },
 "nbformat": 4,
 "nbformat_minor": 5
}
