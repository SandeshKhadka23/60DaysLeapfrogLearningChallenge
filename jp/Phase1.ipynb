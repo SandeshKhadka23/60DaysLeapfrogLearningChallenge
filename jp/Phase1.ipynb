{
 "cells": [
  {
   "cell_type": "code",
   "execution_count": 3,
   "id": "b22361f8-eb16-4428-90f7-b1fca7d82321",
   "metadata": {},
   "outputs": [],
   "source": [
    "import numpy as np\n",
    "\n",
    "\n"
   ]
  },
  {
   "cell_type": "markdown",
   "id": "2e0c10d9-a702-43dd-ad2e-a07256d9e951",
   "metadata": {},
   "source": [
    "## creating array from list"
   ]
  },
  {
   "cell_type": "code",
   "execution_count": 4,
   "id": "ed1a12ce-258f-4674-a216-cd24d5018c20",
   "metadata": {},
   "outputs": [
    {
     "name": "stdout",
     "output_type": "stream",
     "text": [
      "1d array: [1 2 3 4 5]\n",
      "2d array [[1 2 3]\n",
      " [4 5 6]]\n"
     ]
    }
   ],
   "source": [
    "arr_1d=np.array([1,2,3,4,5])\n",
    "print(\"1d array:\",arr_1d)\n",
    "\n",
    "arr_2d=np.array([[1,2,3,],[4,5,6]])\n",
    "print(\"2d array\",arr_2d)\n",
    "\n",
    "\n"
   ]
  },
  {
   "cell_type": "markdown",
   "id": "4927f12e-bdce-4175-a718-c39bbf0077b8",
   "metadata": {},
   "source": [
    "## list vs numpy array"
   ]
  },
  {
   "cell_type": "code",
   "execution_count": 5,
   "id": "e936242d-0547-48b1-8989-1e68cc5ddb5a",
   "metadata": {},
   "outputs": [
    {
     "name": "stdout",
     "output_type": "stream",
     "text": [
      "pythonn list multiplication [1, 2, 3, 1, 2, 3]\n",
      "python array multiplication: [2 4 6]\n",
      "\n",
      " list operation time: 0.17380380630493164\n",
      "\n",
      " python operation time: 0.010003328323364258\n"
     ]
    }
   ],
   "source": [
    "py_list=[1,2,3]\n",
    "print(\"pythonn list multiplication\",py_list*2)\n",
    "\n",
    "np_array=np.array([1,2,3])#element wise multipliction\n",
    "print(\"python array multiplication:\",np_array*2)\n",
    "\n",
    "import time\n",
    "start=time.time()#gives current time\n",
    "py_list=[i*2 for i in range(1000000)]\n",
    "print(\"\\n list operation time:\",time.time()-start)\n",
    "\n",
    "start=time.time()\n",
    "np_array=np.arange(1000000)\n",
    "print(\"\\n python operation time:\",time.time()-start)\n",
    "\n",
    "\n"
   ]
  },
  {
   "cell_type": "markdown",
   "id": "c49fb6be-dd30-452d-8dfd-ca58ec94f900",
   "metadata": {},
   "source": [
    "## creating array from scratch"
   ]
  },
  {
   "cell_type": "code",
   "execution_count": 7,
   "id": "f48fbb9d-484e-4ba7-bea8-444326f4081c",
   "metadata": {},
   "outputs": [
    {
     "name": "stdout",
     "output_type": "stream",
     "text": [
      "\n",
      " zeros array:\n",
      " [[0. 0. 0.]\n",
      " [0. 0. 0.]]\n",
      "\n",
      " ones array:\n",
      " [[1. 1. 1.]]\n",
      "random array:\n",
      " [[0.14173789 0.50086043 0.45073661]\n",
      " [0.91467524 0.79945787 0.86709272]]\n",
      "\n",
      " sequence array:\n",
      " [ 0  2  4  6  8 10]\n"
     ]
    }
   ],
   "source": [
    "zeros=np.zeros((2,3))#(row,column) as a tuple\n",
    "print(\"\\n zeros array:\\n\",zeros)\n",
    "\n",
    "ones=np.ones((1,3))#(row,column) as a tuple\n",
    "print(\"\\n ones array:\\n\",ones)\n",
    "\n",
    "full=np.full((2,3),7)#((row,column),constant value)\n",
    "random=np.random.random((2,3))\n",
    "print(\"random array:\\n\",random)\n",
    "\n",
    "sequence=np.arange(0,11,2)#start stop step\n",
    "print(\"\\n sequence array:\\n\",sequence)"
   ]
  },
  {
   "cell_type": "markdown",
   "id": "42a2ced2-daf6-4ab0-87f2-96144c6de7ce",
   "metadata": {},
   "source": [
    "## vecotr,matrix,tensor"
   ]
  },
  {
   "cell_type": "code",
   "execution_count": 11,
   "id": "a86d4159-1613-4202-b176-54930ae38c49",
   "metadata": {},
   "outputs": [
    {
     "name": "stdout",
     "output_type": "stream",
     "text": [
      "\n",
      "vector: [1 2 3]\n",
      "\n",
      "matrix: [[1 2]\n",
      " [3 4]]\n",
      "\n",
      " tensor: [[[1 2]\n",
      "  [3 4]]\n",
      "\n",
      " [[4 5]\n",
      "  [6 7]]]\n"
     ]
    }
   ],
   "source": [
    "vector=np.array([1,2,3])\n",
    "print(\"\\nvector:\",vector)\n",
    "\n",
    "matrix=np.array([[1,2],\n",
    "                [3,4]])\n",
    "print(\"\\nmatrix:\",matrix)\n",
    "\n",
    "tensor=np.array([[[1,2],[3,4]],\n",
    "                 [[4,5],[6,7]]])\n",
    "print(\"\\n tensor:\",tensor)"
   ]
  },
  {
   "cell_type": "markdown",
   "id": "66a42e94-22b2-45c7-b994-9de33d725077",
   "metadata": {},
   "source": [
    "##  array properties"
   ]
  },
  {
   "cell_type": "code",
   "execution_count": 14,
   "id": "cfbb5b36-69c0-462d-9829-3c398f67afe1",
   "metadata": {},
   "outputs": [
    {
     "name": "stdout",
     "output_type": "stream",
     "text": [
      "shape: (2, 3)\n",
      "dimension: 2\n",
      "size: 6\n",
      "dtype: int64\n"
     ]
    }
   ],
   "source": [
    "arr=np.array([[1,2,3],\n",
    "             [3,4,5]])\n",
    "print(\"shape:\",arr.shape)#row and columns\n",
    "print(\"dimension:\",arr.ndim)#2d 3d\n",
    "print(\"size:\",arr.size)#prints no of elements\n",
    "print(\"dtype:\",arr.dtype)#datatype\n"
   ]
  },
  {
   "cell_type": "markdown",
   "id": "d6f4ed97-a8d2-4cad-bea0-a0cc52a3cf20",
   "metadata": {},
   "source": [
    "## array reshaping"
   ]
  },
  {
   "cell_type": "code",
   "execution_count": 15,
   "id": "6a844d4e-57a7-477c-9ad1-b7349ef34ad0",
   "metadata": {},
   "outputs": [
    {
     "name": "stdout",
     "output_type": "stream",
     "text": [
      "original array [ 0  1  2  3  4  5  6  7  8  9 10 11]\n",
      "reshaped array: [[ 0  1  2]\n",
      " [ 3  4  5]\n",
      " [ 6  7  8]\n",
      " [ 9 10 11]]\n",
      "flattened array: [ 0  1  2  3  4  5  6  7  8  9 10 11]\n",
      "reshaped array: [ 0  1  2  3  4  5  6  7  8  9 10 11]\n",
      "transpose: [[ 0  3  6  9]\n",
      " [ 1  4  7 10]\n",
      " [ 2  5  8 11]]\n"
     ]
    }
   ],
   "source": [
    "arr=np.arange(12)\n",
    "print(\"original array\",arr)\n",
    "reshaped=arr.reshape((4,3))\n",
    "print(\"reshaped array:\",reshaped)\n",
    "\n",
    "flattened=reshaped.flatten()\n",
    "print(\"flattened array:\",flattened)\n",
    "\n",
    "raveled=reshaped.ravel()\n",
    "print(\"reshaped array:\",raveled)\n",
    "#ravel (returns view,instead of cpy)\n",
    "\n",
    "#transpose\n",
    "transpose=reshaped.T\n",
    "print(\"transpose:\",transpose)\n",
    "\n",
    "\n"
   ]
  }
 ],
 "metadata": {
  "kernelspec": {
   "display_name": "Python 3 (ipykernel)",
   "language": "python",
   "name": "python3"
  },
  "language_info": {
   "codemirror_mode": {
    "name": "ipython",
    "version": 3
   },
   "file_extension": ".py",
   "mimetype": "text/x-python",
   "name": "python",
   "nbconvert_exporter": "python",
   "pygments_lexer": "ipython3",
   "version": "3.12.3"
  }
 },
 "nbformat": 4,
 "nbformat_minor": 5
}
