{
 "cells": [
  {
   "cell_type": "code",
   "execution_count": null,
   "id": "f8645dfc-164f-4bd9-a3dc-db5376445e44",
   "metadata": {},
   "outputs": [
    {
     "name": "stdout",
     "output_type": "stream",
     "text": [
      "\n",
      "--- Matrix Calculator ---\n",
      "1. Addition\n",
      "2. Subtraction\n",
      "3. Multiplication\n",
      "4. Transpose\n",
      "5. Inverse\n",
      "6. Exit\n"
     ]
    },
    {
     "name": "stdin",
     "output_type": "stream",
     "text": [
      "Select an operation (1-6):  1\n"
     ]
    },
    {
     "name": "stdout",
     "output_type": "stream",
     "text": [
      "\n",
      "Enter values for Matrix A:\n"
     ]
    },
    {
     "name": "stdin",
     "output_type": "stream",
     "text": [
      "Rows:  1\n",
      "Columns:  1\n"
     ]
    },
    {
     "name": "stdout",
     "output_type": "stream",
     "text": [
      "Enter the values row by row (space-separated):\n"
     ]
    },
    {
     "name": "stdin",
     "output_type": "stream",
     "text": [
      "Row 1:  1\n"
     ]
    },
    {
     "name": "stdout",
     "output_type": "stream",
     "text": [
      "\n",
      "Enter values for Matrix B:\n"
     ]
    },
    {
     "name": "stdin",
     "output_type": "stream",
     "text": [
      "Rows:  1\n",
      "Columns:  1\n"
     ]
    },
    {
     "name": "stdout",
     "output_type": "stream",
     "text": [
      "Enter the values row by row (space-separated):\n"
     ]
    },
    {
     "name": "stdin",
     "output_type": "stream",
     "text": [
      "Row 1:  1\n"
     ]
    },
    {
     "name": "stdout",
     "output_type": "stream",
     "text": [
      "Result of Addition:\n",
      " [[2.]]\n",
      "\n",
      "--- Matrix Calculator ---\n",
      "1. Addition\n",
      "2. Subtraction\n",
      "3. Multiplication\n",
      "4. Transpose\n",
      "5. Inverse\n",
      "6. Exit\n"
     ]
    }
   ],
   "source": [
    "import numpy as np\n",
    "\n",
    "def input_matrix(n):\n",
    "    print(f\"\\nEnter values for Matrix {n}:\")\n",
    "    rows = int(input(\"Rows: \"))\n",
    "    cols = int(input(\"Columns: \"))\n",
    "    print(f\"Enter the values row by row (space-separated):\")\n",
    "    data = []\n",
    "    for i in range(rows):\n",
    "        row = list(map(float, input(f\"Row {i+1}: \").split()))\n",
    "        data.append(row)\n",
    "    return np.array(data)\n",
    "\n",
    "def display_menu():\n",
    "    print(\"\\n--- Matrix Calculator ---\")\n",
    "    print(\"1. Addition\")\n",
    "    print(\"2. Subtraction\")\n",
    "    print(\"3. Multiplication\")\n",
    "    print(\"4. Transpose\")\n",
    "    print(\"5. Inverse\")\n",
    "    print(\"6. Exit\")\n",
    "\n",
    "def main():\n",
    "    while True:\n",
    "        display_menu()\n",
    "        choice = input(\"Select an operation (1-6): \")\n",
    "\n",
    "        if choice in ['1', '2', '3']:\n",
    "            A = input_matrix('A')\n",
    "            B = input_matrix('B')\n",
    "\n",
    "            if A.shape != B.shape and choice != '3':\n",
    "                print(\"Error: Matrices must be of same shape for this operation.\")\n",
    "                continue\n",
    "\n",
    "            if choice == '1':\n",
    "                print(\"Result of Addition:\\n\", A + B)\n",
    "            elif choice == '2':\n",
    "                print(\"Result of Subtraction:\\n\", A - B)\n",
    "            elif choice == '3':\n",
    "                try:\n",
    "                    result = np.dot(A, B)\n",
    "                    print(\"Result of Multiplication:\\n\", result)\n",
    "                except ValueError:\n",
    "                    print(\"Error: Cannot multiply these matrices due to shape mismatch.\")\n",
    "\n",
    "        elif choice == '4':\n",
    "            A = input_matrix('A')\n",
    "            print(\"Transpose of A:\\n\", A.T)\n",
    "\n",
    "        elif choice == '5':\n",
    "            A = input_matrix('A')\n",
    "            if A.shape[0] != A.shape[1]:\n",
    "                print(\"Error: Matrix must be square to calculate inverse.\")\n",
    "            else:\n",
    "                try:\n",
    "                    inv = np.linalg.inv(A)\n",
    "                    print(\"Inverse of A:\\n\", inv)\n",
    "                except np.linalg.LinAlgError:\n",
    "                    print(\"Error: Matrix is singular (non-invertible).\")\n",
    "\n",
    "        elif choice == '6':\n",
    "            print(\"Exiting...\")\n",
    "            break\n",
    "\n",
    "        else:\n",
    "            print(\"Invalid choice. Please select a valid option.\")\n",
    "\n",
    "if __name__ == \"__main__\":\n",
    "    main()\n"
   ]
  },
  {
   "cell_type": "code",
   "execution_count": null,
   "id": "cdb2b906-0c7e-4164-90a7-18bf00e371b7",
   "metadata": {},
   "outputs": [],
   "source": []
  },
  {
   "cell_type": "code",
   "execution_count": null,
   "id": "54f44087-42bc-4b27-9048-b7e860e416d9",
   "metadata": {},
   "outputs": [],
   "source": []
  },
  {
   "cell_type": "code",
   "execution_count": null,
   "id": "18031457-115a-4604-988a-5f2aac5459c4",
   "metadata": {},
   "outputs": [],
   "source": []
  },
  {
   "cell_type": "code",
   "execution_count": null,
   "id": "903720b2-2da0-4d42-a375-c6dc8ee06f2b",
   "metadata": {},
   "outputs": [],
   "source": []
  }
 ],
 "metadata": {
  "kernelspec": {
   "display_name": "Python 3 (ipykernel)",
   "language": "python",
   "name": "python3"
  },
  "language_info": {
   "codemirror_mode": {
    "name": "ipython",
    "version": 3
   },
   "file_extension": ".py",
   "mimetype": "text/x-python",
   "name": "python",
   "nbconvert_exporter": "python",
   "pygments_lexer": "ipython3",
   "version": "3.12.3"
  }
 },
 "nbformat": 4,
 "nbformat_minor": 5
}
