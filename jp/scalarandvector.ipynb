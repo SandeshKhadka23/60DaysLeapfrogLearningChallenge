{
 "cells": [
  {
   "cell_type": "code",
   "execution_count": 1,
   "id": "7f0653ca-afa2-4161-9b35-5255f58c491c",
   "metadata": {},
   "outputs": [
    {
     "name": "stdout",
     "output_type": "stream",
     "text": [
      "python3: can't open file '/home/sandeshkhadka/Documents/60daysLeapfrogChallenge/jp/install': [Errno 2] No such file or directory\n"
     ]
    }
   ],
   "source": [
    "!python3 install numpy\n"
   ]
  },
  {
   "cell_type": "code",
   "execution_count": 2,
   "id": "a6c6ffa3-48b3-4932-9561-0adb9f8d43d7",
   "metadata": {},
   "outputs": [
    {
     "name": "stdout",
     "output_type": "stream",
     "text": [
      "Collecting numpy\n",
      "  Downloading numpy-2.2.6-cp312-cp312-manylinux_2_17_x86_64.manylinux2014_x86_64.whl.metadata (62 kB)\n",
      "\u001b[2K     \u001b[38;2;114;156;31m━━━━━━━━━━━━━━━━━━━━━━━━━━━━━━━━━━━━━━━\u001b[0m \u001b[32m62.0/62.0 kB\u001b[0m \u001b[31m502.8 kB/s\u001b[0m eta \u001b[36m0:00:00\u001b[0m kB/s\u001b[0m eta \u001b[36m0:00:01\u001b[0m:01\u001b[0m\n",
      "\u001b[?25hDownloading numpy-2.2.6-cp312-cp312-manylinux_2_17_x86_64.manylinux2014_x86_64.whl (16.5 MB)\n",
      "\u001b[2K   \u001b[38;2;114;156;31m━━━━━━━━━━━━━━━━━━━━━━━━━━━━━━━━━━━━━━━━\u001b[0m \u001b[32m16.5/16.5 MB\u001b[0m \u001b[31m10.9 MB/s\u001b[0m eta \u001b[36m0:00:00\u001b[0mm eta \u001b[36m0:00:01\u001b[0m[36m0:00:01\u001b[0m\n",
      "\u001b[?25hInstalling collected packages: numpy\n",
      "Successfully installed numpy-2.2.6\n"
     ]
    }
   ],
   "source": [
    "!pip install numpy"
   ]
  },
  {
   "cell_type": "code",
   "execution_count": 3,
   "id": "d0ae57ba-ef82-41ad-914e-b3c20e101a61",
   "metadata": {},
   "outputs": [
    {
     "name": "stdout",
     "output_type": "stream",
     "text": [
      "Scalar: 5\n",
      "Vector: [3 4]\n",
      "Magnitude of vector: 5.0\n"
     ]
    }
   ],
   "source": [
    "import numpy as np\n",
    "\n",
    "# Scalar (just a number)\n",
    "scalar = 5\n",
    "print(\"Scalar:\", scalar)\n",
    "\n",
    "# Vector (1D array)\n",
    "vector = np.array([3, 4])\n",
    "print(\"Vector:\", vector)\n",
    "\n",
    "# Vector magnitude (length)\n",
    "magnitude = np.linalg.norm(vector)\n",
    "print(\"Magnitude of vector:\", magnitude)\n",
    "# np.array creates vectors.\n",
    "\n",
    "# np.linalg.norm computes the length (magnitude) of the vector using the formula √(x² + y²).\n",
    "\n"
   ]
  },
  {
   "cell_type": "code",
   "execution_count": 4,
   "id": "0a750035-bd55-4727-806e-97d864a54fbb",
   "metadata": {},
   "outputs": [
    {
     "name": "stdout",
     "output_type": "stream",
     "text": [
      "Addition: [6 4]\n",
      "Scalar multiplication: [6 9]\n"
     ]
    }
   ],
   "source": [
    "#vector addition and scalar multiplication\n",
    "import numpy as np\n",
    "\n",
    "v1 = np.array([2, 3])\n",
    "v2 = np.array([4, 1])\n",
    "scalar = 3#it is just a number\n",
    "\n",
    "# Vector addition\n",
    "add = v1 + v2\n",
    "print(\"Addition:\", add)\n",
    "\n",
    "# Scalar multiplication\n",
    "scaled = scalar * v1\n",
    "print(\"Scalar multiplication:\", scaled)\n"
   ]
  },
  {
   "cell_type": "code",
   "execution_count": 5,
   "id": "848e8f50-0267-472d-a888-ef01a89d4027",
   "metadata": {},
   "outputs": [
    {
     "name": "stdout",
     "output_type": "stream",
     "text": [
      "Dot product: 11\n"
     ]
    }
   ],
   "source": [
    "dot = np.dot(v1, v2)  # or v1 @ v2\n",
    "print(\"Dot product:\", dot)\n",
    "# For v1 = [2, 3] and v2 = [4, 1],\n",
    "# Dot = (2×4) + (3×1) = 8 + 3 = 11"
   ]
  },
  {
   "cell_type": "code",
   "execution_count": 6,
   "id": "ab5c4435-d765-4816-8d99-0cec765d80a9",
   "metadata": {},
   "outputs": [
    {
     "name": "stdout",
     "output_type": "stream",
     "text": [
      "Unit vector of v1: [0.5547002  0.83205029]\n"
     ]
    }
   ],
   "source": [
    "#unit vector of vector v1\n",
    "unit_vector = v1 / np.linalg.norm(v1) #v1/magintude of v1 as magnitude.direction(unit vector)=vector\n",
    "print(\"Unit vector of v1:\", unit_vector)\n"
   ]
  },
  {
   "cell_type": "code",
   "execution_count": 7,
   "id": "eaeff1e6-1f08-462c-b62a-202dd9509dca",
   "metadata": {},
   "outputs": [
    {
     "name": "stdout",
     "output_type": "stream",
     "text": [
      "Angle between v1 and v2 (degrees): 42.273689006093726\n"
     ]
    }
   ],
   "source": [
    "#angle between v1 and v2\n",
    "cos_theta = np.dot(v1, v2) / (np.linalg.norm(v1) * np.linalg.norm(v2))#a.b=|a||b|cos_theta\n",
    "angle_rad = np.arccos(cos_theta)#angle in radian of (reverse of cos_theta)\n",
    "angle_deg = np.degrees(angle_rad)#convert radian to degrees\n",
    "\n",
    "print(\"Angle between v1 and v2 (degrees):\", angle_deg)\n"
   ]
  },
  {
   "cell_type": "code",
   "execution_count": 8,
   "id": "cc81d4b2-dff6-4102-937a-7d70b109073e",
   "metadata": {},
   "outputs": [
    {
     "name": "stdout",
     "output_type": "stream",
     "text": [
      "the sum of two vectors are: [3 3 5]\n",
      "dot product: 4\n",
      "magnitude of vector1: 3.7416573867739413\n",
      "magnitude of vector2: 4.58257569495584\n",
      "the angle between two vectors are: 76.50946454112733\n"
     ]
    }
   ],
   "source": [
    "#practive session:\n",
    "vector1=np.array([2,-1,3])\n",
    "vector2=np.array([1,4,2])\n",
    "\n",
    "#sum\n",
    "sumv=vector1+vector2\n",
    "print(\"the sum of two vectors are:\",sumv)\n",
    "\n",
    "#dot product of two vectors\n",
    "dot_product=np.dot(vector1,vector2)\n",
    "print(\"dot product:\",dot_product)\n",
    "\n",
    "#magnitude of each vector\n",
    "mag_v1=np.linalg.norm(vector1)\n",
    "print(\"magnitude of vector1:\",mag_v1)\n",
    "mag_v2=np.linalg.norm(vector2)\n",
    "print(\"magnitude of vector2:\",mag_v2)\n",
    "\n",
    "#angle between two vectors\n",
    "costheta=dot_product/(mag_v1*mag_v2)\n",
    "anglerad=np.arccos(costheta)\n",
    "angledeg=np.degrees(anglerad)#angle in degrees\n",
    "\n",
    "print(\"the angle between two vectors are:\",angledeg)"
   ]
  },
  {
   "cell_type": "code",
   "execution_count": null,
   "id": "7fa5ecf7-0b9b-4010-b70a-8a572f4c433a",
   "metadata": {},
   "outputs": [],
   "source": []
  }
 ],
 "metadata": {
  "kernelspec": {
   "display_name": "Python 3 (ipykernel)",
   "language": "python",
   "name": "python3"
  },
  "language_info": {
   "codemirror_mode": {
    "name": "ipython",
    "version": 3
   },
   "file_extension": ".py",
   "mimetype": "text/x-python",
   "name": "python",
   "nbconvert_exporter": "python",
   "pygments_lexer": "ipython3",
   "version": "3.12.3"
  }
 },
 "nbformat": 4,
 "nbformat_minor": 5
}
