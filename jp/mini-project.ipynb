{
 "cells": [
  {
   "cell_type": "code",
   "execution_count": 18,
   "id": "46bcde08-c6e7-475a-9b9e-7f4e32f63df6",
   "metadata": {},
   "outputs": [
    {
     "name": "stdout",
     "output_type": "stream",
     "text": [
      "Marks: [87 91 76 82 67 95 58 73 88 69]\n",
      "Average: 78.6\n",
      "Highest mark: 95\n",
      "Lowest mark: 58\n",
      "Standard Deviation: 11.324310133513652\n",
      "New Marks with student name: [92, 96, 81, 87, 72, 100, 63, 78, 93, 74]\n",
      "Students with marks > 80: [['Sandesh', 87], ['Aarav', 91], ['Kritika', 82], ['Sajina', 95], ['Meena', 88]]\n",
      "[['Sandesh', 87], ['Aarav', 91], ['Bina', 76], ['Kritika', 82], ['Niraj', 67], ['Sajina', 95], ['Roshan', 58], ['Suman', 73], ['Meena', 88], ['Dipesh', 69]]\n",
      "there is no error\n",
      "End\n"
     ]
    }
   ],
   "source": [
    "import numpy as np\n",
    "\n",
    "try:\n",
    "    # Reading from a file (name, marks)\n",
    "    with open(\"student.txt\", \"r\") as file:\n",
    "        info = file.readlines()  # Reads content line by line\n",
    "\n",
    "    # Calculating average, highest, lowest, std dev\n",
    "    marks = []\n",
    "    for line in info:\n",
    "        name, mark = line.strip().split(\",\")\n",
    "        marks.append(int(mark.strip()))\n",
    "\n",
    "    # Convert to numpy array\n",
    "    marks_array = np.array(marks)\n",
    "    print(\"Marks:\", marks_array)\n",
    "    print(\"Average:\", np.mean(marks_array))\n",
    "    print(\"Highest mark:\", np.max(marks_array))\n",
    "    print(\"Lowest mark:\", np.min(marks_array))\n",
    "    print(\"Standard Deviation:\", np.std(marks_array))\n",
    "\n",
    "  \n",
    "\n",
    "    # Filter students with marks > 80\n",
    "    student_list = []\n",
    "    with open(\"student.txt\", \"r\") as file:\n",
    "        lines = file.readlines()\n",
    "        for line in lines:\n",
    "            name, mark = line.strip().split(',')\n",
    "            student_list.append([name.strip(), int(mark.strip())])\n",
    "\n",
    "      # Increase each mark by 5\n",
    "    def increaseMarks(student):\n",
    "        return student[1] + 5\n",
    "\n",
    "    new_marks = list(map(increaseMarks, student_list))\n",
    "    print(\"New Marks with student name:\", new_marks)\n",
    "\n",
    "    def filterstudent(student):\n",
    "        return student[1] >80  # student[1] = mark\n",
    "\n",
    "    talented_students = list(filter(filterstudent, student_list))\n",
    "    print(\"Students with marks > 80:\", talented_students)\n",
    "\n",
    "    print(student_list)\n",
    "\n",
    "   # Writing the student_list to a new file\n",
    "    with open(\"file.txt\", \"w\") as file:\n",
    "      for student in student_list:\n",
    "          line = f\"{student[0]},{student[1]}\\n\"\n",
    "          file.write(line)\n",
    "\n",
    "except Exception as e:\n",
    "    print(\"There is an error:\", e)\n",
    "\n",
    "else:\n",
    "    print(\"there is no error\")\n",
    "\n",
    "finally:\n",
    "    print(\"End\")\n"
   ]
  },
  {
   "cell_type": "code",
   "execution_count": null,
   "id": "f8ba9f5e-ce50-4c3a-8d8c-00d8b4b5a0ce",
   "metadata": {},
   "outputs": [],
   "source": []
  },
  {
   "cell_type": "code",
   "execution_count": null,
   "id": "20ebbfd4-dad8-4e2a-b8ba-8c166910416f",
   "metadata": {},
   "outputs": [],
   "source": []
  },
  {
   "cell_type": "code",
   "execution_count": null,
   "id": "c3b069e5-c6f7-40ee-ba3a-b03e9d4737c2",
   "metadata": {},
   "outputs": [],
   "source": []
  },
  {
   "cell_type": "code",
   "execution_count": null,
   "id": "8c1727ad-ce38-4dcc-a55f-5f910c0ff51a",
   "metadata": {},
   "outputs": [],
   "source": []
  },
  {
   "cell_type": "code",
   "execution_count": null,
   "id": "e355b629-3be0-4e72-95be-9a7f5e2feb53",
   "metadata": {},
   "outputs": [],
   "source": []
  },
  {
   "cell_type": "code",
   "execution_count": null,
   "id": "190dd25f-1acc-4d0e-8ef7-f1dd7b9539a4",
   "metadata": {},
   "outputs": [],
   "source": []
  },
  {
   "cell_type": "code",
   "execution_count": null,
   "id": "7db735cd-0283-4fe4-8256-3606b3c15854",
   "metadata": {},
   "outputs": [],
   "source": []
  },
  {
   "cell_type": "code",
   "execution_count": null,
   "id": "07f80663-f829-4a2c-bbb3-becce38f8330",
   "metadata": {},
   "outputs": [],
   "source": []
  },
  {
   "cell_type": "code",
   "execution_count": null,
   "id": "9dec8c8c-b94e-4434-8386-ae2478ea55c8",
   "metadata": {},
   "outputs": [],
   "source": []
  },
  {
   "cell_type": "code",
   "execution_count": null,
   "id": "3ab9203b-7aa5-4532-9a58-df833d300e4b",
   "metadata": {},
   "outputs": [],
   "source": []
  },
  {
   "cell_type": "code",
   "execution_count": null,
   "id": "20473939-06bd-40f9-a248-9969893d2db7",
   "metadata": {},
   "outputs": [],
   "source": []
  },
  {
   "cell_type": "code",
   "execution_count": null,
   "id": "47f8e978-885a-46fa-aaf9-9b03400bd820",
   "metadata": {},
   "outputs": [],
   "source": []
  }
 ],
 "metadata": {
  "kernelspec": {
   "display_name": "Python 3 (ipykernel)",
   "language": "python",
   "name": "python3"
  },
  "language_info": {
   "codemirror_mode": {
    "name": "ipython",
    "version": 3
   },
   "file_extension": ".py",
   "mimetype": "text/x-python",
   "name": "python",
   "nbconvert_exporter": "python",
   "pygments_lexer": "ipython3",
   "version": "3.12.3"
  }
 },
 "nbformat": 4,
 "nbformat_minor": 5
}
