{
 "cells": [
  {
   "cell_type": "code",
   "execution_count": 1,
   "id": "e3620c3f-61b3-4496-9137-0e8e3163bf9f",
   "metadata": {},
   "outputs": [
    {
     "ename": "ModuleNotFoundError",
     "evalue": "No module named 'matplotlib'",
     "output_type": "error",
     "traceback": [
      "\u001b[31m---------------------------------------------------------------------------\u001b[39m",
      "\u001b[31mModuleNotFoundError\u001b[39m                       Traceback (most recent call last)",
      "\u001b[36mCell\u001b[39m\u001b[36m \u001b[39m\u001b[32mIn[1]\u001b[39m\u001b[32m, line 2\u001b[39m\n\u001b[32m      1\u001b[39m \u001b[38;5;28;01mimport\u001b[39;00m\u001b[38;5;250m \u001b[39m\u001b[34;01mnumpy\u001b[39;00m\u001b[38;5;250m \u001b[39m\u001b[38;5;28;01mas\u001b[39;00m\u001b[38;5;250m \u001b[39m\u001b[34;01mnp\u001b[39;00m\n\u001b[32m----> \u001b[39m\u001b[32m2\u001b[39m \u001b[38;5;28;01mimport\u001b[39;00m\u001b[38;5;250m \u001b[39m\u001b[34;01mmatplotlib\u001b[39;00m\u001b[34;01m.\u001b[39;00m\u001b[34;01mpyplot\u001b[39;00m\u001b[38;5;250m \u001b[39m\u001b[38;5;28;01mas\u001b[39;00m\u001b[38;5;250m \u001b[39m\u001b[34;01mplt\u001b[39;00m\n\u001b[32m      4\u001b[39m \u001b[38;5;28;01mdef\u001b[39;00m\u001b[38;5;250m \u001b[39m\u001b[34mrandom_walk\u001b[39m(n_steps=\u001b[32m1000\u001b[39m):\n\u001b[32m      5\u001b[39m     \u001b[38;5;66;03m# Step choices: (x, y) movements\u001b[39;00m\n\u001b[32m      6\u001b[39m     steps = np.random.choice([\u001b[33m'\u001b[39m\u001b[33mup\u001b[39m\u001b[33m'\u001b[39m, \u001b[33m'\u001b[39m\u001b[33mdown\u001b[39m\u001b[33m'\u001b[39m, \u001b[33m'\u001b[39m\u001b[33mleft\u001b[39m\u001b[33m'\u001b[39m, \u001b[33m'\u001b[39m\u001b[33mright\u001b[39m\u001b[33m'\u001b[39m], size=n_steps)\n",
      "\u001b[31mModuleNotFoundError\u001b[39m: No module named 'matplotlib'"
     ]
    }
   ],
   "source": [
    "import numpy as np\n",
    "import matplotlib.pyplot as plt\n",
    "\n",
    "def random_walk(n_steps=1000):\n",
    "    # Step choices: (x, y) movements\n",
    "    steps = np.random.choice(['up', 'down', 'left', 'right'], size=n_steps)\n",
    "    position = np.zeros((n_steps+1, 2), dtype=int)\n",
    "\n",
    "    for i in range(1, n_steps+1):\n",
    "        move = position[i-1].copy()\n",
    "        if steps[i-1] == 'up':\n",
    "            move[1] += 1\n",
    "        elif steps[i-1] == 'down':\n",
    "            move[1] -= 1\n",
    "        elif steps[i-1] == 'left':\n",
    "            move[0] -= 1\n",
    "        elif steps[i-1] == 'right':\n",
    "            move[0] += 1\n",
    "        position[i] = move\n",
    "\n",
    "    return position\n",
    "\n",
    "# Run and plot\n",
    "path = random_walk(1000)\n",
    "\n",
    "plt.figure(figsize=(8, 8))\n",
    "plt.plot(path[:, 0], path[:, 1], linewidth=1)\n",
    "plt.title(\"Random Walk in 2D\")\n",
    "plt.xlabel(\"X Position\")\n",
    "plt.ylabel(\"Y Position\")\n",
    "plt.grid(True)\n",
    "plt.show()\n"
   ]
  },
  {
   "cell_type": "code",
   "execution_count": null,
   "id": "51a97c3d-b510-41f3-84b1-cf0f3757d963",
   "metadata": {},
   "outputs": [],
   "source": []
  }
 ],
 "metadata": {
  "kernelspec": {
   "display_name": "Python 3 (ipykernel)",
   "language": "python",
   "name": "python3"
  },
  "language_info": {
   "codemirror_mode": {
    "name": "ipython",
    "version": 3
   },
   "file_extension": ".py",
   "mimetype": "text/x-python",
   "name": "python",
   "nbconvert_exporter": "python",
   "pygments_lexer": "ipython3",
   "version": "3.12.3"
  }
 },
 "nbformat": 4,
 "nbformat_minor": 5
}
